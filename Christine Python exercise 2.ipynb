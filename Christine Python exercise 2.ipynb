{
 "cells": [
  {
   "cell_type": "code",
   "execution_count": 3,
   "metadata": {},
   "outputs": [],
   "source": [
    "from collections import namedtuple"
   ]
  },
  {
   "cell_type": "code",
   "execution_count": 4,
   "metadata": {},
   "outputs": [],
   "source": [
    "Artifact = namedtuple(\"Artifakt\", ['name', 'value', 'weight'])"
   ]
  },
  {
   "cell_type": "markdown",
   "metadata": {},
   "source": [
    "I start the artifact list with an empty item (0 weight and value)"
   ]
  },
  {
   "cell_type": "code",
   "execution_count": 5,
   "metadata": {},
   "outputs": [],
   "source": [
    "artifacts = [Artifact('worthless', 0, 0), Artifact('mask', 6, 3), Artifact('statue', 9, 4), Artifact('door', 10, 5)]"
   ]
  },
  {
   "cell_type": "markdown",
   "metadata": {},
   "source": [
    "Basically a carbon copy of the hard to understand pseudo-code in c++ or whatever. \n",
    "\n",
    "I decomposed the *return max()* part on line five into an if-else statement (line 9-14). This way we can print out or store the action of adding the item or keeping the existing items."
   ]
  },
  {
   "cell_type": "code",
   "execution_count": 20,
   "metadata": {},
   "outputs": [],
   "source": [
    "def O(knap_index, artifact_index):\n",
    "    if artifact_index == 0:\n",
    "        return 0\n",
    "    artifact = artifacts[artifact_index]\n",
    "    if artifact.weight <= knap_index:\n",
    "        print(artifact.name)\n",
    "        keep = O(knap_index, artifact_index-1)\n",
    "        add = artifact.value + O(knap_index-artifact.weight, artifact_index-1)\n",
    "        if keep >= add:\n",
    "            print(\"keep previous\")\n",
    "            return keep\n",
    "        else:\n",
    "            print(\"add {}\".format(artifact.name))\n",
    "            return add\n",
    "        #return max(O(knap_index, artifact_index-1), artifact.value + O(knap_index-artifact.weight, artifact_index-1))        \n",
    "    else:\n",
    "        print(artifact.name)\n",
    "        return O(knap_index, artifact_index-1)"
   ]
  },
  {
   "cell_type": "code",
   "execution_count": 22,
   "metadata": {},
   "outputs": [
    {
     "data": {
      "text/plain": [
       "0"
      ]
     },
     "execution_count": 22,
     "metadata": {},
     "output_type": "execute_result"
    }
   ],
   "source": [
    "knapsack_capacity = 7\n",
    "number_of_artifacts = 0\n",
    "\n",
    "O(knapsack_capacity, number_of_artifacts)"
   ]
  },
  {
   "cell_type": "code",
   "execution_count": 17,
   "metadata": {},
   "outputs": [
    {
     "name": "stdout",
     "output_type": "stream",
     "text": [
      "mask\n",
      "add mask\n"
     ]
    },
    {
     "data": {
      "text/plain": [
       "6"
      ]
     },
     "execution_count": 17,
     "metadata": {},
     "output_type": "execute_result"
    }
   ],
   "source": [
    "knapsack_capacity = 7\n",
    "number_of_artifacts = 1\n",
    "\n",
    "O(knapsack_capacity, number_of_artifacts)"
   ]
  },
  {
   "cell_type": "code",
   "execution_count": 18,
   "metadata": {},
   "outputs": [
    {
     "name": "stdout",
     "output_type": "stream",
     "text": [
      "statue\n",
      "mask\n",
      "add mask\n",
      "mask\n",
      "add mask\n",
      "add statue\n"
     ]
    },
    {
     "data": {
      "text/plain": [
       "15"
      ]
     },
     "execution_count": 18,
     "metadata": {},
     "output_type": "execute_result"
    }
   ],
   "source": [
    "knapsack_capacity = 7\n",
    "number_of_artifacts = 2\n",
    "O(knapsack_capacity, number_of_artifacts)"
   ]
  },
  {
   "cell_type": "code",
   "execution_count": 23,
   "metadata": {},
   "outputs": [
    {
     "name": "stdout",
     "output_type": "stream",
     "text": [
      "door\n",
      "statue\n",
      "mask\n",
      "add mask\n",
      "mask\n",
      "add mask\n",
      "add statue\n",
      "statue\n",
      "mask\n",
      "keep previous\n"
     ]
    },
    {
     "data": {
      "text/plain": [
       "15"
      ]
     },
     "execution_count": 23,
     "metadata": {},
     "output_type": "execute_result"
    }
   ],
   "source": [
    "knapsack_capacity = 7\n",
    "number_of_artifacts = 3\n",
    "\n",
    "O(knapsack_capacity, number_of_artifacts)"
   ]
  }
 ],
 "metadata": {
  "kernelspec": {
   "display_name": "Python 3",
   "language": "python",
   "name": "python3"
  },
  "language_info": {
   "codemirror_mode": {
    "name": "ipython",
    "version": 3
   },
   "file_extension": ".py",
   "mimetype": "text/x-python",
   "name": "python",
   "nbconvert_exporter": "python",
   "pygments_lexer": "ipython3",
   "version": "3.6.0"
  }
 },
 "nbformat": 4,
 "nbformat_minor": 2
}
